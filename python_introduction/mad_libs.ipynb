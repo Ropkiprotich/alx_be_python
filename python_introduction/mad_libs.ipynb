{
 "cells": [
  {
   "cell_type": "code",
   "execution_count": 1,
   "metadata": {},
   "outputs": [],
   "source": [
    "adjective= input(\"Input an Adjective to to fill the blanks\")\n",
    "print(f\"On a beautiful {adjective} day, I went to the zoo. I saw a funny {adjective}monkey swinging from the trees. Then, I spotted a majestic {adjective} lion lounging in the sun.  What a wild and (adjective) experience!\")"
   ]
  }
 ],
 "metadata": {
  "kernelspec": {
   "display_name": "Python 3",
   "language": "python",
   "name": "python3"
  },
  "language_info": {
   "codemirror_mode": {
    "name": "ipython",
    "version": 3
   },
   "file_extension": ".py",
   "mimetype": "text/x-python",
   "name": "python",
   "nbconvert_exporter": "python",
   "pygments_lexer": "ipython3",
   "version": "3.10.8"
  }
 },
 "nbformat": 4,
 "nbformat_minor": 2
}
